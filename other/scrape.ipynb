{
 "cells": [
  {
   "cell_type": "code",
   "execution_count": 1,
   "metadata": {},
   "outputs": [],
   "source": [
    "# Dependencies\n",
    "import requests\n",
    "import json\n",
    "import pandas as pd"
   ]
  },
  {
   "cell_type": "code",
   "execution_count": 2,
   "metadata": {},
   "outputs": [],
   "source": [
    "url = \"https://hotspots.dea.ga.gov.au/data/recent-hotspots.json\"\n",
    "response = requests.get(url)"
   ]
  },
  {
   "cell_type": "code",
   "execution_count": 3,
   "metadata": {},
   "outputs": [],
   "source": [
    "data = response.json()"
   ]
  },
  {
   "cell_type": "code",
   "execution_count": 4,
   "metadata": {},
   "outputs": [
    {
     "data": {
      "text/plain": [
       "2090"
      ]
     },
     "execution_count": 4,
     "metadata": {},
     "output_type": "execute_result"
    }
   ],
   "source": [
    "coordinates = []\n",
    "temperature = []\n",
    "\n",
    "for i in range(100000):\n",
    "    if data[\"features\"][i][\"properties\"][\"hours_since_hotspot\"] < 12 and data[\"features\"][i][\"properties\"][\"longitude\"] < 129 and data[\"features\"][i][\"properties\"][\"latitude\"] < -12:\n",
    "        coordinates.append([data[\"features\"][i][\"properties\"][\"latitude\"],data[\"features\"][i][\"properties\"][\"longitude\"]]),\n",
    "        temperature.append(data[\"features\"][i][\"properties\"][\"temp_kelvin\"])\n",
    "\n",
    "len(coordinates)"
   ]
  },
  {
   "cell_type": "code",
   "execution_count": 5,
   "metadata": {},
   "outputs": [
    {
     "data": {
      "text/html": [
       "<div>\n",
       "<style scoped>\n",
       "    .dataframe tbody tr th:only-of-type {\n",
       "        vertical-align: middle;\n",
       "    }\n",
       "\n",
       "    .dataframe tbody tr th {\n",
       "        vertical-align: top;\n",
       "    }\n",
       "\n",
       "    .dataframe thead th {\n",
       "        text-align: right;\n",
       "    }\n",
       "</style>\n",
       "<table border=\"1\" class=\"dataframe\">\n",
       "  <thead>\n",
       "    <tr style=\"text-align: right;\">\n",
       "      <th></th>\n",
       "      <th>0</th>\n",
       "      <th>1</th>\n",
       "      <th>2</th>\n",
       "      <th>3</th>\n",
       "      <th>4</th>\n",
       "      <th>5</th>\n",
       "      <th>6</th>\n",
       "      <th>7</th>\n",
       "      <th>8</th>\n",
       "      <th>9</th>\n",
       "      <th>...</th>\n",
       "      <th>2080</th>\n",
       "      <th>2081</th>\n",
       "      <th>2082</th>\n",
       "      <th>2083</th>\n",
       "      <th>2084</th>\n",
       "      <th>2085</th>\n",
       "      <th>2086</th>\n",
       "      <th>2087</th>\n",
       "      <th>2088</th>\n",
       "      <th>2089</th>\n",
       "    </tr>\n",
       "  </thead>\n",
       "  <tbody>\n",
       "    <tr>\n",
       "      <th>coordinates</th>\n",
       "      <td>[-19.287, 128.1331]</td>\n",
       "      <td>[-19.2809, 128.1168]</td>\n",
       "      <td>[-19.2741, 128.1086]</td>\n",
       "      <td>[-19.2669, 128.1078]</td>\n",
       "      <td>[-19.2674, 128.1003]</td>\n",
       "      <td>[-19.2596, 128.1071]</td>\n",
       "      <td>[-19.2602, 128.0995]</td>\n",
       "      <td>[-19.2635, 128.1037]</td>\n",
       "      <td>[-19.2635, 128.1037]</td>\n",
       "      <td>[-19.2602, 128.0995]</td>\n",
       "      <td>...</td>\n",
       "      <td>[-15.15, 128.77]</td>\n",
       "      <td>[-32.0986, 115.804]</td>\n",
       "      <td>[-32.0661, 115.905]</td>\n",
       "      <td>[-32.0661, 115.905]</td>\n",
       "      <td>[-32.0708, 115.9125]</td>\n",
       "      <td>[-32.0708, 115.9125]</td>\n",
       "      <td>[-32.0986, 115.804]</td>\n",
       "      <td>[-32.0986, 115.804]</td>\n",
       "      <td>[-32.0661, 115.905]</td>\n",
       "      <td>[-32.0708, 115.9125]</td>\n",
       "    </tr>\n",
       "    <tr>\n",
       "      <th>temperature</th>\n",
       "      <td>336.66</td>\n",
       "      <td>348.87</td>\n",
       "      <td>348.17</td>\n",
       "      <td>367</td>\n",
       "      <td>335.9</td>\n",
       "      <td>356.24</td>\n",
       "      <td>347.26</td>\n",
       "      <td>323.84</td>\n",
       "      <td>323.84</td>\n",
       "      <td>347.26</td>\n",
       "      <td>...</td>\n",
       "      <td>340</td>\n",
       "      <td>306.91</td>\n",
       "      <td>305.95</td>\n",
       "      <td>305.95</td>\n",
       "      <td>305.2</td>\n",
       "      <td>305.2</td>\n",
       "      <td>306.91</td>\n",
       "      <td>306.91</td>\n",
       "      <td>305.95</td>\n",
       "      <td>305.2</td>\n",
       "    </tr>\n",
       "  </tbody>\n",
       "</table>\n",
       "<p>2 rows × 2090 columns</p>\n",
       "</div>"
      ],
      "text/plain": [
       "                            0                     1                     2     \\\n",
       "coordinates  [-19.287, 128.1331]  [-19.2809, 128.1168]  [-19.2741, 128.1086]   \n",
       "temperature               336.66                348.87                348.17   \n",
       "\n",
       "                             3                     4                     5     \\\n",
       "coordinates  [-19.2669, 128.1078]  [-19.2674, 128.1003]  [-19.2596, 128.1071]   \n",
       "temperature                   367                 335.9                356.24   \n",
       "\n",
       "                             6                     7                     8     \\\n",
       "coordinates  [-19.2602, 128.0995]  [-19.2635, 128.1037]  [-19.2635, 128.1037]   \n",
       "temperature                347.26                323.84                323.84   \n",
       "\n",
       "                             9     ...              2080                 2081  \\\n",
       "coordinates  [-19.2602, 128.0995]  ...  [-15.15, 128.77]  [-32.0986, 115.804]   \n",
       "temperature                347.26  ...               340               306.91   \n",
       "\n",
       "                            2082                 2083                  2084  \\\n",
       "coordinates  [-32.0661, 115.905]  [-32.0661, 115.905]  [-32.0708, 115.9125]   \n",
       "temperature               305.95               305.95                 305.2   \n",
       "\n",
       "                             2085                 2086                 2087  \\\n",
       "coordinates  [-32.0708, 115.9125]  [-32.0986, 115.804]  [-32.0986, 115.804]   \n",
       "temperature                 305.2               306.91               306.91   \n",
       "\n",
       "                            2088                  2089  \n",
       "coordinates  [-32.0661, 115.905]  [-32.0708, 115.9125]  \n",
       "temperature               305.95                 305.2  \n",
       "\n",
       "[2 rows x 2090 columns]"
      ]
     },
     "execution_count": 5,
     "metadata": {},
     "output_type": "execute_result"
    }
   ],
   "source": [
    "coordinates_S = pd.Series(coordinates)\n",
    "temperature_S = pd.Series(temperature)\n",
    "\n",
    "df = pd.concat([coordinates_S, temperature_S], axis=1)\n",
    "df = df.set_axis([\"coordinates\",\"temperature\"], axis=1)\n",
    "df = df.T\n",
    "df"
   ]
  },
  {
   "cell_type": "code",
   "execution_count": 6,
   "metadata": {},
   "outputs": [],
   "source": [
    "df.to_json(\"hotspots.json\")\n"
   ]
  },
  {
   "cell_type": "code",
   "execution_count": null,
   "metadata": {},
   "outputs": [],
   "source": []
  }
 ],
 "metadata": {
  "kernelspec": {
   "display_name": "Python 3.7.7 ('PythonData')",
   "language": "python",
   "name": "python3"
  },
  "language_info": {
   "codemirror_mode": {
    "name": "ipython",
    "version": 3
   },
   "file_extension": ".py",
   "mimetype": "text/x-python",
   "name": "python",
   "nbconvert_exporter": "python",
   "pygments_lexer": "ipython3",
   "version": "3.7.7"
  },
  "orig_nbformat": 4,
  "vscode": {
   "interpreter": {
    "hash": "5ab4271f17fb678f92d8863922ba38472c07151a138a8513aae8a62841bcc2ec"
   }
  }
 },
 "nbformat": 4,
 "nbformat_minor": 2
}
